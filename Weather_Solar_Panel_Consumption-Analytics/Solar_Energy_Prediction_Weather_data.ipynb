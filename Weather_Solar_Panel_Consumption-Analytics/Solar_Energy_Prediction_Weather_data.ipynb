{
 "cells": [
  {
   "cell_type": "markdown",
   "id": "b5132005-cdaf-4c39-84e9-b20ad502d723",
   "metadata": {},
   "source": [
    "## __Solar Generation Prediction (Linear Regression model)__"
   ]
  },
  {
   "cell_type": "markdown",
   "id": "2168b2dd-c45a-40a6-b2a1-5a37c89dc226",
   "metadata": {},
   "source": [
    "### __1. Importing the data__"
   ]
  },
  {
   "cell_type": "code",
   "execution_count": 1,
   "id": "b2921efe-af6c-4af7-a078-c78ed3cc0136",
   "metadata": {},
   "outputs": [],
   "source": [
    "import pandas as pd"
   ]
  },
  {
   "cell_type": "code",
   "execution_count": 2,
   "id": "3d519fe3-81cf-4716-9cb0-30abed838700",
   "metadata": {},
   "outputs": [],
   "source": [
    "#Importing the merged historic weather dataset and the solar generation consumption\n",
    "merged_df = pd.read_csv(\"merged_df.csv\")"
   ]
  },
  {
   "cell_type": "code",
   "execution_count": 3,
   "id": "8a8151bd-02a4-41c0-a3fd-8aad52097922",
   "metadata": {},
   "outputs": [
    {
     "data": {
      "text/html": [
       "<div>\n",
       "<style scoped>\n",
       "    .dataframe tbody tr th:only-of-type {\n",
       "        vertical-align: middle;\n",
       "    }\n",
       "\n",
       "    .dataframe tbody tr th {\n",
       "        vertical-align: top;\n",
       "    }\n",
       "\n",
       "    .dataframe thead th {\n",
       "        text-align: right;\n",
       "    }\n",
       "</style>\n",
       "<table border=\"1\" class=\"dataframe\">\n",
       "  <thead>\n",
       "    <tr style=\"text-align: right;\">\n",
       "      <th></th>\n",
       "      <th>Temperature</th>\n",
       "      <th>Humidity</th>\n",
       "      <th>Shortwave_Radiation</th>\n",
       "      <th>Date</th>\n",
       "      <th>Sunlight_hours</th>\n",
       "      <th>Time</th>\n",
       "      <th>gen</th>\n",
       "    </tr>\n",
       "  </thead>\n",
       "  <tbody>\n",
       "    <tr>\n",
       "      <th>0</th>\n",
       "      <td>6</td>\n",
       "      <td>81</td>\n",
       "      <td>30.33</td>\n",
       "      <td>2018-01-01</td>\n",
       "      <td>7.95</td>\n",
       "      <td>2018-01-01</td>\n",
       "      <td>23.362676</td>\n",
       "    </tr>\n",
       "    <tr>\n",
       "      <th>1</th>\n",
       "      <td>7</td>\n",
       "      <td>86</td>\n",
       "      <td>8.92</td>\n",
       "      <td>2018-01-02</td>\n",
       "      <td>7.97</td>\n",
       "      <td>2018-01-02</td>\n",
       "      <td>18.812548</td>\n",
       "    </tr>\n",
       "    <tr>\n",
       "      <th>2</th>\n",
       "      <td>8</td>\n",
       "      <td>70</td>\n",
       "      <td>40.96</td>\n",
       "      <td>2018-01-03</td>\n",
       "      <td>7.98</td>\n",
       "      <td>2018-01-03</td>\n",
       "      <td>29.057803</td>\n",
       "    </tr>\n",
       "    <tr>\n",
       "      <th>3</th>\n",
       "      <td>8</td>\n",
       "      <td>82</td>\n",
       "      <td>25.00</td>\n",
       "      <td>2018-01-04</td>\n",
       "      <td>8.00</td>\n",
       "      <td>2018-01-04</td>\n",
       "      <td>22.020129</td>\n",
       "    </tr>\n",
       "    <tr>\n",
       "      <th>4</th>\n",
       "      <td>5</td>\n",
       "      <td>88</td>\n",
       "      <td>36.08</td>\n",
       "      <td>2018-01-05</td>\n",
       "      <td>8.03</td>\n",
       "      <td>2018-01-05</td>\n",
       "      <td>29.631941</td>\n",
       "    </tr>\n",
       "  </tbody>\n",
       "</table>\n",
       "</div>"
      ],
      "text/plain": [
       "   Temperature  Humidity  Shortwave_Radiation        Date  Sunlight_hours  \\\n",
       "0            6        81                30.33  2018-01-01            7.95   \n",
       "1            7        86                 8.92  2018-01-02            7.97   \n",
       "2            8        70                40.96  2018-01-03            7.98   \n",
       "3            8        82                25.00  2018-01-04            8.00   \n",
       "4            5        88                36.08  2018-01-05            8.03   \n",
       "\n",
       "         Time        gen  \n",
       "0  2018-01-01  23.362676  \n",
       "1  2018-01-02  18.812548  \n",
       "2  2018-01-03  29.057803  \n",
       "3  2018-01-04  22.020129  \n",
       "4  2018-01-05  29.631941  "
      ]
     },
     "execution_count": 3,
     "metadata": {},
     "output_type": "execute_result"
    }
   ],
   "source": [
    "merged_df.head(5)"
   ]
  },
  {
   "cell_type": "code",
   "execution_count": 4,
   "id": "6ee2f076-431e-4ffa-9fab-3512d2fd5977",
   "metadata": {},
   "outputs": [],
   "source": [
    "#Importing the forecast data\n",
    "new_weather_df = pd.read_csv(\"weather_forecast.csv\")"
   ]
  },
  {
   "cell_type": "code",
   "execution_count": 5,
   "id": "79fa9f28-8526-4d43-ba86-6edb2b75a6e1",
   "metadata": {},
   "outputs": [
    {
     "data": {
      "text/html": [
       "<div>\n",
       "<style scoped>\n",
       "    .dataframe tbody tr th:only-of-type {\n",
       "        vertical-align: middle;\n",
       "    }\n",
       "\n",
       "    .dataframe tbody tr th {\n",
       "        vertical-align: top;\n",
       "    }\n",
       "\n",
       "    .dataframe thead th {\n",
       "        text-align: right;\n",
       "    }\n",
       "</style>\n",
       "<table border=\"1\" class=\"dataframe\">\n",
       "  <thead>\n",
       "    <tr style=\"text-align: right;\">\n",
       "      <th></th>\n",
       "      <th>Temperature</th>\n",
       "      <th>Humidity</th>\n",
       "      <th>Shortwave_Radiation</th>\n",
       "      <th>Date</th>\n",
       "      <th>Sunlight_hours</th>\n",
       "    </tr>\n",
       "  </thead>\n",
       "  <tbody>\n",
       "    <tr>\n",
       "      <th>0</th>\n",
       "      <td>20.333333</td>\n",
       "      <td>73.500000</td>\n",
       "      <td>125.541667</td>\n",
       "      <td>2023-07-08</td>\n",
       "      <td>16.400000</td>\n",
       "    </tr>\n",
       "    <tr>\n",
       "      <th>1</th>\n",
       "      <td>18.604167</td>\n",
       "      <td>66.791667</td>\n",
       "      <td>298.541667</td>\n",
       "      <td>2023-07-09</td>\n",
       "      <td>16.366667</td>\n",
       "    </tr>\n",
       "    <tr>\n",
       "      <th>2</th>\n",
       "      <td>16.775000</td>\n",
       "      <td>82.083333</td>\n",
       "      <td>111.750000</td>\n",
       "      <td>2023-07-10</td>\n",
       "      <td>16.333333</td>\n",
       "    </tr>\n",
       "    <tr>\n",
       "      <th>3</th>\n",
       "      <td>17.254167</td>\n",
       "      <td>84.875000</td>\n",
       "      <td>227.791667</td>\n",
       "      <td>2023-07-11</td>\n",
       "      <td>16.316667</td>\n",
       "    </tr>\n",
       "    <tr>\n",
       "      <th>4</th>\n",
       "      <td>16.579167</td>\n",
       "      <td>73.333333</td>\n",
       "      <td>219.958333</td>\n",
       "      <td>2023-07-12</td>\n",
       "      <td>16.283333</td>\n",
       "    </tr>\n",
       "  </tbody>\n",
       "</table>\n",
       "</div>"
      ],
      "text/plain": [
       "   Temperature   Humidity  Shortwave_Radiation        Date  Sunlight_hours\n",
       "0    20.333333  73.500000           125.541667  2023-07-08       16.400000\n",
       "1    18.604167  66.791667           298.541667  2023-07-09       16.366667\n",
       "2    16.775000  82.083333           111.750000  2023-07-10       16.333333\n",
       "3    17.254167  84.875000           227.791667  2023-07-11       16.316667\n",
       "4    16.579167  73.333333           219.958333  2023-07-12       16.283333"
      ]
     },
     "execution_count": 5,
     "metadata": {},
     "output_type": "execute_result"
    }
   ],
   "source": [
    "new_weather_df.head()"
   ]
  },
  {
   "cell_type": "markdown",
   "id": "da0fb755-6ce1-40e1-9e1a-03daa1cb92e5",
   "metadata": {},
   "source": [
    "### __2. Remember the Correlation__"
   ]
  },
  {
   "cell_type": "markdown",
   "id": "c8feb409-c11d-4be6-8721-4322dc6b65e4",
   "metadata": {},
   "source": [
    "The following variables were examined for their correlation with solar generation (Gen) in the past project::\n",
    "\n",
    "| Variable              | Gen Correlation |\n",
    "|-----------------------|-----------------|\n",
    "| Temperature           | 0.549054        |\n",
    "| Humidity              | -0.666227       |\n",
    "| Shortwave Radiation   | 0.841948        |\n",
    "| Sunlight Hours        | 0.788099        |\n",
    "\n",
    "For the purpose of the machine learning prediction model, we are using the 4 variables to predict the Gen variable using a multiple linear regression model."
   ]
  },
  {
   "cell_type": "markdown",
   "id": "14a4d6a3-853e-489d-80b2-8cb3fce9ddea",
   "metadata": {},
   "source": [
    "### __3. Multicollinearity Check__"
   ]
  },
  {
   "cell_type": "markdown",
   "id": "3fb7d580-1429-4e5e-920a-9cd494601bf7",
   "metadata": {},
   "source": [
    "To ensure reliable model interpretation, I checked for multicollinearity using the Variance Inflation Factor (VIF) to identify highly correlated variables that might affect the stability of the regression model."
   ]
  },
  {
   "cell_type": "code",
   "execution_count": 6,
   "id": "89b622f7-db6f-4301-924e-737ded07f04a",
   "metadata": {},
   "outputs": [
    {
     "data": {
      "text/html": [
       "<div>\n",
       "<style scoped>\n",
       "    .dataframe tbody tr th:only-of-type {\n",
       "        vertical-align: middle;\n",
       "    }\n",
       "\n",
       "    .dataframe tbody tr th {\n",
       "        vertical-align: top;\n",
       "    }\n",
       "\n",
       "    .dataframe thead th {\n",
       "        text-align: right;\n",
       "    }\n",
       "</style>\n",
       "<table border=\"1\" class=\"dataframe\">\n",
       "  <thead>\n",
       "    <tr style=\"text-align: right;\">\n",
       "      <th></th>\n",
       "      <th>Variable</th>\n",
       "      <th>VIF</th>\n",
       "    </tr>\n",
       "  </thead>\n",
       "  <tbody>\n",
       "    <tr>\n",
       "      <th>0</th>\n",
       "      <td>Shortwave_Radiation</td>\n",
       "      <td>13.632239</td>\n",
       "    </tr>\n",
       "    <tr>\n",
       "      <th>1</th>\n",
       "      <td>Sunlight_hours</td>\n",
       "      <td>434.370141</td>\n",
       "    </tr>\n",
       "    <tr>\n",
       "      <th>2</th>\n",
       "      <td>Humidity</td>\n",
       "      <td>130.237479</td>\n",
       "    </tr>\n",
       "    <tr>\n",
       "      <th>3</th>\n",
       "      <td>Temperature</td>\n",
       "      <td>191.685948</td>\n",
       "    </tr>\n",
       "  </tbody>\n",
       "</table>\n",
       "</div>"
      ],
      "text/plain": [
       "              Variable         VIF\n",
       "0  Shortwave_Radiation   13.632239\n",
       "1       Sunlight_hours  434.370141\n",
       "2             Humidity  130.237479\n",
       "3          Temperature  191.685948"
      ]
     },
     "execution_count": 6,
     "metadata": {},
     "output_type": "execute_result"
    }
   ],
   "source": [
    "import pandas as pd\n",
    "from statsmodels.stats.outliers_influence import variance_inflation_factor\n",
    "\n",
    "# Create a DataFrame with the predictor variables\n",
    "df = new_weather_df[[\"Shortwave_Radiation\", \"Sunlight_hours\", \"Humidity\", \"Temperature\"]]\n",
    "\n",
    "# Calculate VIF for each predictor variable\n",
    "vif = pd.DataFrame()\n",
    "vif[\"Variable\"] = df.columns\n",
    "vif[\"VIF\"] = [variance_inflation_factor(df.values, i) for i in range(df.shape[1])]\n",
    "\n",
    "vif"
   ]
  },
  {
   "cell_type": "markdown",
   "id": "6b1444d2-3403-4926-b278-fed1080b433b",
   "metadata": {},
   "source": [
    "#### __Interpreation__\n",
    "The VIF values indicate the presence of multicollinearity between the predictor variables in your regression model. "
   ]
  },
  {
   "cell_type": "markdown",
   "id": "0ed5f585-f928-4bb6-8531-f2e42ca4838b",
   "metadata": {},
   "source": [
    "### __4. PCA__"
   ]
  },
  {
   "cell_type": "markdown",
   "id": "29f92332-0b0d-452c-bc8f-171654f4e1bb",
   "metadata": {},
   "source": [
    "#### To address multicollinearity, I applied PCA in the \"merged_df\" (which has the historic weather and solar generation dataset) to transform the correlated variables into a smaller set of uncorrelated principal components, reducing dimensionality while retaining most of the variance in the data."
   ]
  },
  {
   "cell_type": "code",
   "execution_count": 7,
   "id": "86a49f79-3ca8-4b96-9925-1114ba02ff55",
   "metadata": {},
   "outputs": [
    {
     "name": "stdout",
     "output_type": "stream",
     "text": [
      "           PC1       PC2       PC3         gen\n",
      "0    -1.746986  0.612923  0.704883   23.362676\n",
      "1    -2.052412  0.062855  0.582532   18.812548\n",
      "2    -0.922561  1.141297  1.515872   29.057803\n",
      "3    -1.650162  0.248363  0.857921   22.020129\n",
      "4    -2.152991  0.265642  0.152362   29.631941\n",
      "...        ...       ...       ...         ...\n",
      "1978  2.875188  0.948877 -0.260325   97.246218\n",
      "1979  2.950528  0.655541 -0.424783  121.742163\n",
      "1980  3.258441  0.707077 -0.272353  120.950493\n",
      "1981  2.824124  0.673289 -0.687518   68.336305\n",
      "1982  2.280247  0.532311 -0.197712   48.491734\n",
      "\n",
      "[1983 rows x 4 columns]\n"
     ]
    }
   ],
   "source": [
    "from sklearn.decomposition import PCA\n",
    "from sklearn.preprocessing import StandardScaler\n",
    "import numpy as np\n",
    "\n",
    "\n",
    "# Create a DataFrame with the predictor variables\n",
    "df = merged_df[[\"Shortwave_Radiation\", \"Sunlight_hours\", \"Humidity\", \"Temperature\"]]\n",
    "\n",
    "# Standardize the variables\n",
    "scaler = StandardScaler()\n",
    "scaled_df = scaler.fit_transform(df)\n",
    "\n",
    "# Perform PCA\n",
    "pca = PCA()\n",
    "principal_components = pca.fit_transform(scaled_df)\n",
    "\n",
    "# Explained variance ratio\n",
    "explained_variance_ratio = pca.explained_variance_ratio_\n",
    "\n",
    "# Cumulative explained variance\n",
    "cumulative_variance = np.cumsum(explained_variance_ratio)\n",
    "\n",
    "# Determine the number of components to retain\n",
    "num_components = np.argmax(cumulative_variance >= 0.95) + 1\n",
    "\n",
    "# Retain the desired number of components\n",
    "final_principal_components = principal_components[:, :num_components]\n",
    "\n",
    "# Construct the DataFrame with the retained components\n",
    "principal_df = pd.DataFrame(data=final_principal_components, columns=[\"PC{}\".format(i) for i in range(1, num_components + 1)])\n",
    "\n",
    "# Add the target variable to the principal components DataFrame, if applicable\n",
    "principal_df[\"gen\"] = merged_df[\"gen\"]\n",
    "\n",
    "# Print the updated DataFrame\n",
    "print(principal_df)"
   ]
  },
  {
   "cell_type": "markdown",
   "id": "3f4e1f63-2db6-4abb-bcd7-243f98126c80",
   "metadata": {},
   "source": [
    "### __5. Creation of Linear Regression model with the PCA variables generated above.__"
   ]
  },
  {
   "cell_type": "markdown",
   "id": "00eeccc7-8ae8-4a1b-a207-bf9dd5d69cc9",
   "metadata": {},
   "source": [
    "With the transformed principal components, I built a multiple linear regression model to predict the target variable (gen) using the selected predictors. I split the data into training and testing sets and trained the model using the training data."
   ]
  },
  {
   "cell_type": "code",
   "execution_count": 8,
   "id": "04166d01-95a0-4a10-8bd4-eaa8e9adeb34",
   "metadata": {},
   "outputs": [],
   "source": [
    "X = principal_df.drop(\"gen\", axis=1)\n",
    "y = principal_df[\"gen\"]\n",
    "\n",
    "from sklearn.model_selection import train_test_split\n",
    "X_train, X_test, y_train, y_test = train_test_split(X, y, test_size=0.2, random_state=42)\n",
    "\n",
    "from sklearn.linear_model import LinearRegression\n",
    "regression_model = LinearRegression()\n",
    "\n",
    "regression_model.fit(X_train, y_train)\n",
    "y_pred = regression_model.predict(X_test)"
   ]
  },
  {
   "cell_type": "code",
   "execution_count": 9,
   "id": "355c2ce2-bb69-49de-b111-ead0fecd9e63",
   "metadata": {},
   "outputs": [
    {
     "data": {
      "text/plain": [
       "array([ 94.214692  , 123.66919408, 106.80462704,  15.26563568,\n",
       "       116.26378985,  40.48759888,  42.74288129,  51.83609371,\n",
       "       117.6016612 , 105.79461422, 155.97832031, 113.69162359,\n",
       "        11.97532249,  37.85631851,  13.30166008,  12.89109495,\n",
       "       135.54062413,  63.66415709,  67.62506886,  96.10307703,\n",
       "        81.63132189,  91.19443787,  25.44024323,  66.04391116,\n",
       "       102.58844375,  65.03501818,  55.04104279, 102.60053385,\n",
       "        54.63085623,  31.62010555, 134.69944755,  65.00345322,\n",
       "        28.45702973,  36.36621709,  73.99282614, 150.85200553,\n",
       "       109.07046543,  74.72057441,  66.10330781,  95.61947909,\n",
       "        44.01684368,  41.03055433,  51.85343069,  58.91669673,\n",
       "       106.32916043,  11.91195707, 105.28981738,  84.39873117,\n",
       "        36.64463419, 132.3164786 ,  25.22824467,  82.66246405,\n",
       "        16.79496451,  34.46825241,  14.3726291 ,  32.60777534,\n",
       "       151.08777267,  35.89790292,  78.07036601,  95.42025397,\n",
       "        73.24557552,  26.03954172,  83.23627063,  44.64194263,\n",
       "        16.90612667,  75.83632921,  53.63386833, 112.76780136,\n",
       "        63.36272501,   8.28496934,  26.20976986,  29.21665894,\n",
       "         1.69248061, 139.47417636, 102.57843627,  32.75972753,\n",
       "        58.11710257,  33.89683393,  22.59307405,  98.72254434,\n",
       "       121.66896305,  89.48614675,  15.62575901,  63.88744481,\n",
       "        49.08418872,  29.87544683,  37.34232457, 102.89592979,\n",
       "        87.57764869,  15.03188441, 105.90546498,  99.38140364,\n",
       "        31.48208149, 122.28500723, 135.71790177,  12.61006959,\n",
       "        24.06973464,  75.60139916,  15.46182964,  29.18517696,\n",
       "        67.50093885,  59.01344471, 109.40884247,  40.56058561,\n",
       "        16.16334964,  67.17329514, 137.80345517,  84.77144318,\n",
       "        99.30085347,  52.09595487,  23.37871839,  44.18626133,\n",
       "        15.28944278,  54.19104636, 102.09129602,  21.73595395,\n",
       "        60.18422413, 141.48223069,  57.83578383,  14.67155166,\n",
       "        51.78113866,  81.48654265,  51.56969582,  26.73930378,\n",
       "        41.37238825,  20.6096263 , 133.02313304,  27.53661277,\n",
       "       152.63377984,  50.2455694 , 108.83450373, 123.88074912,\n",
       "        92.49508541, 147.73766252,  87.12500812, 108.95797731,\n",
       "        76.59629876, 112.28883645,  10.40490123,  59.85782138,\n",
       "        89.01285252,  35.91048034,  75.96434463, 120.79655721,\n",
       "       121.8012108 ,  27.34677826,  31.62521853, 106.09806739,\n",
       "        75.4608143 ,  15.54991372, 131.22069381, 109.70466103,\n",
       "         6.8383734 , 123.76963896,  86.66183581,  85.05102109,\n",
       "        35.26649904,  48.4081486 ,  31.6825099 , 102.2828183 ,\n",
       "         2.50810952,  17.54145443,  73.76596337,  31.37825478,\n",
       "       105.19491035,  51.66122787,  13.66665629,  13.72477237,\n",
       "        62.04638336, 126.45113232, 151.0198903 ,  43.88482696,\n",
       "       135.7629913 ,  25.51850516,  16.92322451,  27.85233902,\n",
       "        13.5419961 , 147.17346362, 136.21387502,  28.99483512,\n",
       "       110.13408418,  44.37167181,   4.9500394 ,  77.94713614,\n",
       "       123.72732246, 100.67350966,  72.88909826,  51.98123487,\n",
       "        16.56488035, 104.85801662,  17.33231002,  58.75719502,\n",
       "        44.53234521,  63.97337338, 148.70360906,  95.90777673,\n",
       "        17.53617344,  20.1099263 ,  21.56323683,  34.0353751 ,\n",
       "        34.05540941,  24.81244378, 122.41827226,  22.44479419,\n",
       "        28.64430088,  13.73691602, 103.48741843, 147.69639245,\n",
       "        58.433795  , 101.8324429 ,  46.45374305,  86.08688577,\n",
       "       138.54585061,  26.17058065,  76.49035873,  59.4840748 ,\n",
       "         8.21073176, 103.00696219,  83.17721994,  87.34581871,\n",
       "        10.47723724,   8.77256077,  10.48645234,  79.29174243,\n",
       "        72.44970926, 116.18842362,   7.4226522 , 106.18680349,\n",
       "       128.7212982 ,  90.86354199,  92.57940163, 119.93896722,\n",
       "        12.73227915, 137.83120192,  14.00191484, 127.41780822,\n",
       "        74.46231114,  85.00305868, 146.00625175,  56.13149163,\n",
       "        85.50456449,   9.33274198, 132.34287551, 135.46031871,\n",
       "        13.39317268, 133.29757595,  73.21812351, 112.70488305,\n",
       "        14.43890377,  40.09863121, 121.31575171,  12.48777007,\n",
       "         7.70699716, 124.19078104, 115.22848962, 114.0056119 ,\n",
       "        21.38078406,  39.79077591, 116.03012012, 117.76990023,\n",
       "       123.4125161 , 142.38816842, 127.08304444,  85.35756306,\n",
       "       123.81046597,  28.78409444, 139.10216965,  59.92080663,\n",
       "        68.17529865, 119.84932556,  41.62311461,  71.07485789,\n",
       "        14.78827982,   9.37760303,  52.95054614,  43.0663069 ,\n",
       "        70.59283643,  63.27180601, 115.51330979, 122.76751411,\n",
       "       109.91061614,  65.64650803,  40.35106815,  90.66699076,\n",
       "       137.29405819,  53.88149522,  80.43769989,   8.0396611 ,\n",
       "        87.31573048,  57.41835996,  89.09741233,  37.18724633,\n",
       "       104.37579077, 109.32879672, 149.15703358,  20.5101289 ,\n",
       "        24.13035836,  35.9650726 , 110.8487144 , 111.93177593,\n",
       "        33.39552389,  95.09999764,  45.8139052 , 125.45356194,\n",
       "        93.89148172,  93.71093222,  80.737156  ,  87.59258237,\n",
       "        25.45500453, 111.97263345, 120.1181104 ,  39.15309028,\n",
       "        29.94367842,  23.32542456,  64.35090235, 112.73247897,\n",
       "        40.11782629,  19.33976716,  56.76579435,  37.26514693,\n",
       "        95.96668303,  21.21230653, 122.85296896, 101.29114303,\n",
       "        36.88289874, 143.44119734,  17.67566094,  42.17680729,\n",
       "        90.34873498, 116.16978693,  19.60504832,  15.13143863,\n",
       "       101.97945472,  56.92678791,  61.64275425,  43.97385904,\n",
       "        58.77775547,  35.8873822 , 158.82405568,  95.56870258,\n",
       "       113.96931232, 118.63721865,  83.10555327,  15.36604849,\n",
       "        21.87958188,  19.7795838 ,  70.23059968,  96.65230347,\n",
       "        89.96780902,  10.27778332, 122.48406737, 135.75763509,\n",
       "       100.71049105,  88.32552889,  92.82853196,  29.95594325,\n",
       "        95.95726675,  81.02539971,  86.40398725,   5.43253359,\n",
       "        43.04057065,  11.73752305, 121.39814083,  99.66884308,\n",
       "        59.00798054, 107.621591  ,  63.34287144, 148.76468747,\n",
       "       106.33302321,  70.33836267, 126.59965558, 130.32668119,\n",
       "        20.74107148,  36.86299601,  77.50533989,  59.70623284,\n",
       "        73.66585381,  37.56951487,  11.34116095,  85.46103194,\n",
       "        61.86676761,  19.76887585,  36.60076121,  19.80937821,\n",
       "        64.52770207,  27.63037102,  95.97753723,  87.2935958 ,\n",
       "         2.37055523,  11.04663181,  27.66634132,  26.3299674 ,\n",
       "       147.2423239 ,  12.85593572,  87.47147614,  79.45648435,\n",
       "       109.18344294])"
      ]
     },
     "execution_count": 9,
     "metadata": {},
     "output_type": "execute_result"
    }
   ],
   "source": [
    "y_pred"
   ]
  },
  {
   "cell_type": "markdown",
   "id": "5b4af9ca-69f2-4650-ae79-71412c77c91e",
   "metadata": {},
   "source": [
    "### __6. Evaluation of the prediction model__"
   ]
  },
  {
   "cell_type": "markdown",
   "id": "9da2fa36-4b57-4a1d-89cd-394afee10670",
   "metadata": {},
   "source": [
    "I evaluated the performance of the linear regression model by calculating the R-squared value on the test data. The R-squared value measures the proportion of variance in the target variable explained by the predictors."
   ]
  },
  {
   "cell_type": "code",
   "execution_count": 10,
   "id": "2f81ddba-36d5-4d57-8824-f8b3917a965c",
   "metadata": {},
   "outputs": [
    {
     "name": "stdout",
     "output_type": "stream",
     "text": [
      "R-squared: 0.744412626901324\n"
     ]
    }
   ],
   "source": [
    "from sklearn.metrics import r2_score\n",
    "\n",
    "r2 = r2_score(y_test, y_pred)\n",
    "print(\"R-squared:\", r2)"
   ]
  },
  {
   "cell_type": "markdown",
   "id": "32075791-0779-4bbe-b9d5-1bd2e6df177f",
   "metadata": {},
   "source": [
    "#### __Interpretation__\n",
    "The R-squared of 0.7444 indicated that the predictors (principal components) explained approximately 74.44% of the variance in the target variable."
   ]
  },
  {
   "cell_type": "markdown",
   "id": "3d0dd9e8-ab77-4bf7-b3bb-063dae2614fa",
   "metadata": {},
   "source": [
    "### __7. Cross validation__"
   ]
  },
  {
   "cell_type": "markdown",
   "id": "955e92ed-cffe-4ee9-ba1b-1313a8a55ecd",
   "metadata": {},
   "source": [
    "To further assess the model's performance and generalization ability, I employed cross-validation, which splits the data into multiple folds and evaluates the model's performance on each fold. I calculated the mean R-squared score to estimate how well the model is expected to perform on unseen data."
   ]
  },
  {
   "cell_type": "code",
   "execution_count": 11,
   "id": "c21f155a-9e84-4d3f-ae88-bc13589b58f5",
   "metadata": {},
   "outputs": [
    {
     "name": "stdout",
     "output_type": "stream",
     "text": [
      "Cross-Validation R-squared scores: [0.71958235 0.71818134 0.73790061 0.71523099 0.75129599]\n",
      "Mean R-squared score: 0.7284382566094132\n"
     ]
    }
   ],
   "source": [
    "from sklearn.model_selection import cross_val_score\n",
    "\n",
    "# Create the regression model\n",
    "regression_model = LinearRegression()\n",
    "\n",
    "# Perform cross-validation\n",
    "cv_scores = cross_val_score(regression_model, X_train, y_train, cv=5, scoring='r2')\n",
    "\n",
    "# Print the cross-validation scores\n",
    "print(\"Cross-Validation R-squared scores:\", cv_scores)\n",
    "print(\"Mean R-squared score:\", cv_scores.mean())\n"
   ]
  },
  {
   "cell_type": "markdown",
   "id": "ef0afa86-b396-4ea5-a6c9-1aadea4777d2",
   "metadata": {},
   "source": [
    "#### __Interpretation__\n",
    "The mean R-squared score of 0.7284 represented the average performance across five folds. Cross-validation helped mitigate overfitting and provided a reliable estimate of the model's predictive performance."
   ]
  },
  {
   "cell_type": "markdown",
   "id": "079da3d6-117d-480e-9192-410cd50a4e9b",
   "metadata": {},
   "source": [
    "By considering both the R-squared of the linear regression model and the R-squared from cross-validation, I provide a more comprehensive understanding of the model's performance on the specific data used for evaluation and its expected performance on unseen data."
   ]
  },
  {
   "cell_type": "markdown",
   "id": "fcc35d24-355d-4cdd-9aa1-d76d5639ea95",
   "metadata": {},
   "source": [
    "### __8. Using the prediction model, we predict the gen consumption using the 14-day Forecast weather data__"
   ]
  },
  {
   "cell_type": "code",
   "execution_count": 12,
   "id": "364cfd0e-15d5-4583-957f-1eb6a316a0b9",
   "metadata": {},
   "outputs": [],
   "source": [
    "new_df = new_weather_df[[\"Shortwave_Radiation\", \"Sunlight_hours\", \"Humidity\", \"Temperature\"]]\n",
    "scaled_new_df = scaler.transform(new_df)\n",
    "principal_components_new = pca.transform(scaled_new_df)\n",
    "final_principal_components_new = principal_components_new[:, :num_components]"
   ]
  },
  {
   "cell_type": "code",
   "execution_count": 13,
   "id": "4c16f3ef-a9af-4dc6-8f38-13bca6c7bd44",
   "metadata": {},
   "outputs": [],
   "source": [
    "principal_df_new = pd.DataFrame(data=final_principal_components_new, columns=[\"PC{}\".format(i) for i in range(1, num_components + 1)])\n",
    "regression_model.fit(X_train, y_train)  # Fit the regression model with appropriate arguments\n",
    "y_pred_new = regression_model.predict(principal_df_new)"
   ]
  },
  {
   "cell_type": "code",
   "execution_count": 14,
   "id": "11c20532-df19-4d18-b6cc-2af174dab70c",
   "metadata": {},
   "outputs": [
    {
     "data": {
      "text/plain": [
       "array([ 99.27972054, 142.12536173,  90.49853492, 113.17424215,\n",
       "       120.2681687 , 132.79254776,  99.36770282, 132.8272434 ,\n",
       "       143.42910081,  77.21888482, 121.84901444,  94.39887879,\n",
       "       112.95033779,  85.46807993])"
      ]
     },
     "execution_count": 14,
     "metadata": {},
     "output_type": "execute_result"
    }
   ],
   "source": [
    "y_pred_new"
   ]
  },
  {
   "cell_type": "code",
   "execution_count": 16,
   "id": "d6dd6cfa-d69e-4a6d-b5ad-caa8676dec10",
   "metadata": {},
   "outputs": [
    {
     "data": {
      "text/html": [
       "<div>\n",
       "<style scoped>\n",
       "    .dataframe tbody tr th:only-of-type {\n",
       "        vertical-align: middle;\n",
       "    }\n",
       "\n",
       "    .dataframe tbody tr th {\n",
       "        vertical-align: top;\n",
       "    }\n",
       "\n",
       "    .dataframe thead th {\n",
       "        text-align: right;\n",
       "    }\n",
       "</style>\n",
       "<table border=\"1\" class=\"dataframe\">\n",
       "  <thead>\n",
       "    <tr style=\"text-align: right;\">\n",
       "      <th></th>\n",
       "      <th>Temperature</th>\n",
       "      <th>Humidity</th>\n",
       "      <th>Shortwave_Radiation</th>\n",
       "      <th>Date</th>\n",
       "      <th>Sunlight_hours</th>\n",
       "      <th>Gen Prediction</th>\n",
       "    </tr>\n",
       "  </thead>\n",
       "  <tbody>\n",
       "    <tr>\n",
       "      <th>0</th>\n",
       "      <td>20.333333</td>\n",
       "      <td>73.500000</td>\n",
       "      <td>125.541667</td>\n",
       "      <td>2023-07-08</td>\n",
       "      <td>16.400000</td>\n",
       "      <td>99.279721</td>\n",
       "    </tr>\n",
       "    <tr>\n",
       "      <th>1</th>\n",
       "      <td>18.604167</td>\n",
       "      <td>66.791667</td>\n",
       "      <td>298.541667</td>\n",
       "      <td>2023-07-09</td>\n",
       "      <td>16.366667</td>\n",
       "      <td>142.125362</td>\n",
       "    </tr>\n",
       "    <tr>\n",
       "      <th>2</th>\n",
       "      <td>16.775000</td>\n",
       "      <td>82.083333</td>\n",
       "      <td>111.750000</td>\n",
       "      <td>2023-07-10</td>\n",
       "      <td>16.333333</td>\n",
       "      <td>90.498535</td>\n",
       "    </tr>\n",
       "    <tr>\n",
       "      <th>3</th>\n",
       "      <td>17.254167</td>\n",
       "      <td>84.875000</td>\n",
       "      <td>227.791667</td>\n",
       "      <td>2023-07-11</td>\n",
       "      <td>16.316667</td>\n",
       "      <td>113.174242</td>\n",
       "    </tr>\n",
       "    <tr>\n",
       "      <th>4</th>\n",
       "      <td>16.579167</td>\n",
       "      <td>73.333333</td>\n",
       "      <td>219.958333</td>\n",
       "      <td>2023-07-12</td>\n",
       "      <td>16.283333</td>\n",
       "      <td>120.268169</td>\n",
       "    </tr>\n",
       "    <tr>\n",
       "      <th>5</th>\n",
       "      <td>16.887500</td>\n",
       "      <td>69.208333</td>\n",
       "      <td>264.916667</td>\n",
       "      <td>2023-07-13</td>\n",
       "      <td>16.250000</td>\n",
       "      <td>132.792548</td>\n",
       "    </tr>\n",
       "    <tr>\n",
       "      <th>6</th>\n",
       "      <td>16.662500</td>\n",
       "      <td>78.833333</td>\n",
       "      <td>144.875000</td>\n",
       "      <td>2023-07-14</td>\n",
       "      <td>16.216667</td>\n",
       "      <td>99.367703</td>\n",
       "    </tr>\n",
       "    <tr>\n",
       "      <th>7</th>\n",
       "      <td>16.170833</td>\n",
       "      <td>67.875000</td>\n",
       "      <td>261.916667</td>\n",
       "      <td>2023-07-15</td>\n",
       "      <td>16.166667</td>\n",
       "      <td>132.827243</td>\n",
       "    </tr>\n",
       "    <tr>\n",
       "      <th>8</th>\n",
       "      <td>15.495833</td>\n",
       "      <td>68.375000</td>\n",
       "      <td>312.750000</td>\n",
       "      <td>2023-07-16</td>\n",
       "      <td>16.133333</td>\n",
       "      <td>143.429101</td>\n",
       "    </tr>\n",
       "    <tr>\n",
       "      <th>9</th>\n",
       "      <td>15.333333</td>\n",
       "      <td>88.000000</td>\n",
       "      <td>76.333333</td>\n",
       "      <td>2023-07-17</td>\n",
       "      <td>16.100000</td>\n",
       "      <td>77.218885</td>\n",
       "    </tr>\n",
       "    <tr>\n",
       "      <th>10</th>\n",
       "      <td>17.537500</td>\n",
       "      <td>80.833333</td>\n",
       "      <td>262.083333</td>\n",
       "      <td>2023-07-18</td>\n",
       "      <td>16.066667</td>\n",
       "      <td>121.849014</td>\n",
       "    </tr>\n",
       "    <tr>\n",
       "      <th>11</th>\n",
       "      <td>17.850000</td>\n",
       "      <td>91.208333</td>\n",
       "      <td>173.166667</td>\n",
       "      <td>2023-07-19</td>\n",
       "      <td>16.033333</td>\n",
       "      <td>94.398879</td>\n",
       "    </tr>\n",
       "    <tr>\n",
       "      <th>12</th>\n",
       "      <td>17.479167</td>\n",
       "      <td>84.875000</td>\n",
       "      <td>237.708333</td>\n",
       "      <td>2023-07-20</td>\n",
       "      <td>15.983333</td>\n",
       "      <td>112.950338</td>\n",
       "    </tr>\n",
       "    <tr>\n",
       "      <th>13</th>\n",
       "      <td>15.191667</td>\n",
       "      <td>89.958333</td>\n",
       "      <td>125.958333</td>\n",
       "      <td>2023-07-21</td>\n",
       "      <td>15.950000</td>\n",
       "      <td>85.468080</td>\n",
       "    </tr>\n",
       "  </tbody>\n",
       "</table>\n",
       "</div>"
      ],
      "text/plain": [
       "    Temperature   Humidity  Shortwave_Radiation        Date  Sunlight_hours  \\\n",
       "0     20.333333  73.500000           125.541667  2023-07-08       16.400000   \n",
       "1     18.604167  66.791667           298.541667  2023-07-09       16.366667   \n",
       "2     16.775000  82.083333           111.750000  2023-07-10       16.333333   \n",
       "3     17.254167  84.875000           227.791667  2023-07-11       16.316667   \n",
       "4     16.579167  73.333333           219.958333  2023-07-12       16.283333   \n",
       "5     16.887500  69.208333           264.916667  2023-07-13       16.250000   \n",
       "6     16.662500  78.833333           144.875000  2023-07-14       16.216667   \n",
       "7     16.170833  67.875000           261.916667  2023-07-15       16.166667   \n",
       "8     15.495833  68.375000           312.750000  2023-07-16       16.133333   \n",
       "9     15.333333  88.000000            76.333333  2023-07-17       16.100000   \n",
       "10    17.537500  80.833333           262.083333  2023-07-18       16.066667   \n",
       "11    17.850000  91.208333           173.166667  2023-07-19       16.033333   \n",
       "12    17.479167  84.875000           237.708333  2023-07-20       15.983333   \n",
       "13    15.191667  89.958333           125.958333  2023-07-21       15.950000   \n",
       "\n",
       "    Gen Prediction  \n",
       "0        99.279721  \n",
       "1       142.125362  \n",
       "2        90.498535  \n",
       "3       113.174242  \n",
       "4       120.268169  \n",
       "5       132.792548  \n",
       "6        99.367703  \n",
       "7       132.827243  \n",
       "8       143.429101  \n",
       "9        77.218885  \n",
       "10      121.849014  \n",
       "11       94.398879  \n",
       "12      112.950338  \n",
       "13       85.468080  "
      ]
     },
     "execution_count": 16,
     "metadata": {},
     "output_type": "execute_result"
    }
   ],
   "source": [
    "# Add the predicted values to the DataFrame\n",
    "new_weather_df['Gen Prediction'] = y_pred_new\n",
    "\n",
    "# Print the updated DataFrame\n",
    "new_weather_df"
   ]
  },
  {
   "cell_type": "markdown",
   "id": "b027ebed-ce59-43c7-952a-33a976e509d7",
   "metadata": {},
   "source": [
    "#### __Final Interpretation__\n",
    "The linear regression model I utilized offers predictions for the target variable (gen). It's important to acknowledge that these predictions come with a degree of uncertainty and should not be regarded as entirely definitive.\n",
    "\n",
    "The model's performance is assessed using the R-squared value, which measures the proportion of variability in the predicted variable that can be attributed to the model's predictors (Temperature, Humidity, Shortwave Radiation, and Sunlight Hours).\n",
    "\n",
    "In this instance, the R-squared value of 74.44% indicates that approximately 74.44% of the variability in the predicted variable can be accounted for by the chosen predictors. While this represents a noteworthy level of explanation, it's worth noting that there is still some residual variability that remains unexplained by the model.\n",
    "\n",
    "In summary, the linear regression model provides valuable insights and predictions, but it's important to exercise caution and recognize that there are factors beyond the model's scope that may influence the predicted variable. Regular evaluation and updates to the model can help ensure its continued reliability and performance in practical applications."
   ]
  }
 ],
 "metadata": {
  "kernelspec": {
   "display_name": "Python 3 (ipykernel)",
   "language": "python",
   "name": "python3"
  },
  "language_info": {
   "codemirror_mode": {
    "name": "ipython",
    "version": 3
   },
   "file_extension": ".py",
   "mimetype": "text/x-python",
   "name": "python",
   "nbconvert_exporter": "python",
   "pygments_lexer": "ipython3",
   "version": "3.9.13"
  }
 },
 "nbformat": 4,
 "nbformat_minor": 5
}
